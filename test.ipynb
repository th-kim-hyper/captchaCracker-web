{
 "cells": [
  {
   "cell_type": "code",
   "execution_count": 11,
   "metadata": {},
   "outputs": [],
   "source": [
    "import time, os\n",
    "from os import path\n",
    "from PIL import Image\n",
    "import ImageProcess as imgp\n",
    "import time\n",
    "from hyper import Hyper, CaptchaType\n",
    "\n",
    "gov24_url = 'https://www.gov.kr/nlogin/captcha'\n",
    "scourt_url = 'https://safind.scourt.go.kr/sf/captchaImg?t=image'\n",
    "hyper = Hyper(captcha_type=CaptchaType.SUPREME_COURT, weights_only=True, quiet_out=False)\n",
    "\n",
    "def getData(url):\n",
    "    start_time = time.time()\n",
    "    img = imgp.imageLoadFromUrl(url)\n",
    "    img = imgp.setBGColor(img)\n",
    "    img = img.crop((1, 1, img.width - 1, img.height - 1))\n",
    "    # display(img)\n",
    "    # print(img.size)\n",
    "    time_stamp = int(time.time())\n",
    "    down_path = f\"download/supreme_court/{time_stamp}.png\"\n",
    "    file_name = down_path.split(\"/\")[-1]\n",
    "    img.save(down_path)\n",
    "    pred = hyper.predict(down_path).replace(\"[UNK]\", \"_\")\n",
    "    end_time = time.time()\n",
    "    p_time = f'{end_time - start_time:.4f}'\n",
    "    save_path = down_path.replace(file_name, f\"{pred}.png\")\n",
    "    os.rename(down_path, save_path)\n",
    "    return pred, save_path, p_time\n",
    "\n",
    "for i in range(496):\n",
    "    hyper.quiet(False)\n",
    "    pred, save_path, p_time = getData(scourt_url)\n",
    "    print(f\"#### << Done {i+1}/20 : pred = {pred}, p_time = {p_time}, save_path = {save_path} ####\")\n",
    "    hyper.quiet(True)"
   ]
  },
  {
   "cell_type": "code",
   "execution_count": 13,
   "metadata": {},
   "outputs": [
    {
     "data": {
      "image/png": "[encoded data removed]",
      "text/plain": [
       "<PIL.PngImagePlugin.PngImageFile image mode=RGBA size=121x41>"
      ]
     },
     "metadata": {},
     "output_type": "display_data"
    },
    {
     "name": "stdout",
     "output_type": "stream",
     "text": [
      "(121, 41)\n"
     ]
    },
    {
     "data": {
      "image/png": "[encoded data removed]",
      "text/plain": [
       "<PIL.Image.Image image mode=RGBA size=118x38>"
      ]
     },
     "metadata": {},
     "output_type": "display_data"
    },
    {
     "name": "stdout",
     "output_type": "stream",
     "text": [
      "(118, 38)\n"
     ]
    }
   ],
   "source": [
    "from PIL import Image\n",
    "\n",
    "img = Image.open(\"images/supreme_court/train/025147.png\")\n",
    "display(img)\n",
    "print(img.size)\n",
    "img = img.crop((1, 2, img.width - 2, img.height - 1))\n",
    "display(img)\n",
    "print(img.size)"
   ]
  },
  {
   "cell_type": "code",
   "execution_count": 17,
   "metadata": {},
   "outputs": [
    {
     "data": {
      "image/jpeg": "[encoded data removed]",
      "image/png": "[encoded data removed]",
      "text/plain": [
       "<PIL.PngImagePlugin.PngImageFile image mode=RGB size=200x50>"
      ]
     },
     "metadata": {},
     "output_type": "display_data"
    },
    {
     "data": {
      "image/jpeg": "[encoded data removed]",
      "image/png": "[encoded data removed]",
      "text/plain": [
       "<PIL.Image.Image image mode=L size=200x50>"
      ]
     },
     "metadata": {},
     "output_type": "display_data"
    }
   ],
   "source": [
    "from PIL import Image\n",
    "import requests\n",
    "from io import BytesIO\n",
    "\n",
    "url = \"https://safind.scourt.go.kr/sf/captchaImg?t=image\"\n",
    "response = requests.get(url)\n",
    "# 웹 이미지 로드\n",
    "web_img = Image.open(BytesIO(response.content))\n",
    "print(web_img.size, web_img.mode, web_img.format)\n",
    "# display(web_img)\n",
    "# 흑백 이미지로 변환\n",
    "gray_img = web_img.convert(\"L\")\n",
    "# print(gray_img.size, gray_img.mode, gray_img.format)\n",
    "# display(gray_img)\n",
    "# 픽셀 데이터 로드\n",
    "img = gray_img\n",
    "pixel_data = img.load()\n",
    "# 배경 밝기 임계값(그라데이션 배경 제거시 사용)\n",
    "threshold = 64\n",
    "# 그라데이션 배경 제거\n",
    "for i in range(img.size[0]):\n",
    "    for j in range(img.size[1]):\n",
    "        p = pixel_data[i, j]\n",
    "        if p >= threshold:\n",
    "            img.putpixel((i, j), 255)\n",
    "down_path = \"captcha.png\"\n",
    "img.save(down_path)\n",
    "display(web_img, img)\n",
    "\n",
    "from hyper import CaptchaType, Hyper\n",
    "import time\n",
    "\n",
    "captcha_type = CaptchaType.GOV24\n",
    "weights_only = True\n",
    "\n",
    "hyper = Hyper(captcha_type=captcha_type, weights_only=weights_only, quiet_out=True)\n",
    "pred = hyper.predict(down_path).replace(\"[UNK]\", \"_\")\n",
    "hyper.quiet(False)\n",
    "print(pred)\n",
    "time_stamp = int(time.time())\n",
    "down_path = f\"images/gov24/{time_stamp}.{pred}.png\"\n",
    "img.save(down_path)\n",
    "print(down_path)\n",
    "\n",
    "img.close()\n"
   ]
  }
 ],
 "metadata": {
  "kernelspec": {
   "display_name": ".venv",
   "language": "python",
   "name": "python3"
  },
  "language_info": {
   "codemirror_mode": {
    "name": "ipython",
    "version": 3
   },
   "file_extension": ".py",
   "mimetype": "text/x-python",
   "name": "python",
   "nbconvert_exporter": "python",
   "pygments_lexer": "ipython3",
   "version": "3.8.10"
  }
 },
 "nbformat": 4,
 "nbformat_minor": 2
}
